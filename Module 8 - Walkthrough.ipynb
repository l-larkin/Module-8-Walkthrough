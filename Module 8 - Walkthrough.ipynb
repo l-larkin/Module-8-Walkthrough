{
  "cells": [
    {
      "metadata": {
        "collapsed": true
      },
      "cell_type": "markdown",
      "source": "# Module 8 - LOGISTIC REGRESSION"
    },
    {
      "metadata": {},
      "cell_type": "markdown",
      "source": "<i>What is Logistic Regression?</i>\n\nLogistic regression is a type of classifier that is used when you want to make categorical predictions. As compared to linear regression – where we are making continuous value predictions (i.e. price, worth, sales, etc.) – logistic regression is used to making predictions on categories (i.e. yes/no, disease/no disease, survived/did not survive). Through logistic regression you can determine the probability, given your specified features, of a given outcome. \n\n<i>When would you use Logistic Regression?</i>\n\n- Predicting disease progression by symptoms \n- Credit card approval \n- Predicting the gender of a person by his/her handwriting style\n- College admissions by test scores \n\nThe Titanic dataset is a perfect dataset for Logistic Regression because it has a clear target (SURVIVAL) and it has a lot of information about the passengers that survived and did not survive. We are going to use this dataset to train a model that will predict survival of passengers. "
    },
    {
      "metadata": {},
      "cell_type": "markdown",
      "source": "<b>1: Bring in your libraries</b>"
    },
    {
      "metadata": {
        "trusted": true
      },
      "cell_type": "code",
      "source": "# Basics\n\nimport pandas as pd\nimport numpy as np\n\n# Visualization \n\nimport matplotlib.pyplot as plt\nimport seaborn as sns\n%matplotlib inline\n\n# Sampling // Classifer // Metrics \n\nimport sklearn\nfrom sklearn.linear_model import LogisticRegression\nfrom sklearn.model_selection import train_test_split\nfrom sklearn.metrics import classification_report\nfrom sklearn.metrics import confusion_matrix\nfrom sklearn.metrics import accuracy_score",
      "execution_count": 60,
      "outputs": []
    },
    {
      "metadata": {},
      "cell_type": "markdown",
      "source": "<b>2: Bring in your data & examine properties of data</b>"
    },
    {
      "metadata": {
        "scrolled": true,
        "trusted": true
      },
      "cell_type": "code",
      "source": "location = \"../datasets/titanic.xls\"\n\ndf = pd.read_excel(location)\n\ndf.head(3)",
      "execution_count": 61,
      "outputs": [
        {
          "output_type": "execute_result",
          "execution_count": 61,
          "data": {
            "text/html": "<div>\n<style scoped>\n    .dataframe tbody tr th:only-of-type {\n        vertical-align: middle;\n    }\n\n    .dataframe tbody tr th {\n        vertical-align: top;\n    }\n\n    .dataframe thead th {\n        text-align: right;\n    }\n</style>\n<table border=\"1\" class=\"dataframe\">\n  <thead>\n    <tr style=\"text-align: right;\">\n      <th></th>\n      <th>pclass</th>\n      <th>survived</th>\n      <th>name</th>\n      <th>sex</th>\n      <th>age</th>\n      <th>sibsp</th>\n      <th>parch</th>\n      <th>ticket</th>\n      <th>fare</th>\n      <th>cabin</th>\n      <th>embarked</th>\n      <th>boat</th>\n      <th>body</th>\n      <th>home.dest</th>\n    </tr>\n  </thead>\n  <tbody>\n    <tr>\n      <th>0</th>\n      <td>1</td>\n      <td>1</td>\n      <td>Allen, Miss. Elisabeth Walton</td>\n      <td>female</td>\n      <td>29.0000</td>\n      <td>0</td>\n      <td>0</td>\n      <td>24160</td>\n      <td>211.3375</td>\n      <td>B5</td>\n      <td>S</td>\n      <td>2</td>\n      <td>NaN</td>\n      <td>St Louis, MO</td>\n    </tr>\n    <tr>\n      <th>1</th>\n      <td>1</td>\n      <td>1</td>\n      <td>Allison, Master. Hudson Trevor</td>\n      <td>male</td>\n      <td>0.9167</td>\n      <td>1</td>\n      <td>2</td>\n      <td>113781</td>\n      <td>151.5500</td>\n      <td>C22 C26</td>\n      <td>S</td>\n      <td>11</td>\n      <td>NaN</td>\n      <td>Montreal, PQ / Chesterville, ON</td>\n    </tr>\n    <tr>\n      <th>2</th>\n      <td>1</td>\n      <td>0</td>\n      <td>Allison, Miss. Helen Loraine</td>\n      <td>female</td>\n      <td>2.0000</td>\n      <td>1</td>\n      <td>2</td>\n      <td>113781</td>\n      <td>151.5500</td>\n      <td>C22 C26</td>\n      <td>S</td>\n      <td>NaN</td>\n      <td>NaN</td>\n      <td>Montreal, PQ / Chesterville, ON</td>\n    </tr>\n  </tbody>\n</table>\n</div>",
            "text/plain": "   pclass  survived                            name     sex      age  sibsp  \\\n0       1         1   Allen, Miss. Elisabeth Walton  female  29.0000      0   \n1       1         1  Allison, Master. Hudson Trevor    male   0.9167      1   \n2       1         0    Allison, Miss. Helen Loraine  female   2.0000      1   \n\n   parch  ticket      fare    cabin embarked boat  body  \\\n0      0   24160  211.3375       B5        S    2   NaN   \n1      2  113781  151.5500  C22 C26        S   11   NaN   \n2      2  113781  151.5500  C22 C26        S  NaN   NaN   \n\n                         home.dest  \n0                     St Louis, MO  \n1  Montreal, PQ / Chesterville, ON  \n2  Montreal, PQ / Chesterville, ON  "
          },
          "metadata": {}
        }
      ]
    },
    {
      "metadata": {
        "trusted": true
      },
      "cell_type": "code",
      "source": "## overview of variable information\n\ndf.info()",
      "execution_count": 62,
      "outputs": [
        {
          "output_type": "stream",
          "text": "<class 'pandas.core.frame.DataFrame'>\nRangeIndex: 1309 entries, 0 to 1308\nData columns (total 14 columns):\npclass       1309 non-null int64\nsurvived     1309 non-null int64\nname         1309 non-null object\nsex          1309 non-null object\nage          1046 non-null float64\nsibsp        1309 non-null int64\nparch        1309 non-null int64\nticket       1309 non-null object\nfare         1308 non-null float64\ncabin        295 non-null object\nembarked     1307 non-null object\nboat         486 non-null object\nbody         121 non-null float64\nhome.dest    745 non-null object\ndtypes: float64(3), int64(4), object(7)\nmemory usage: 143.2+ KB\n",
          "name": "stdout"
        }
      ]
    },
    {
      "metadata": {
        "trusted": true
      },
      "cell_type": "code",
      "source": "## what do my numeric variables look like?\n\ndf.describe()",
      "execution_count": 63,
      "outputs": [
        {
          "output_type": "execute_result",
          "execution_count": 63,
          "data": {
            "text/html": "<div>\n<style scoped>\n    .dataframe tbody tr th:only-of-type {\n        vertical-align: middle;\n    }\n\n    .dataframe tbody tr th {\n        vertical-align: top;\n    }\n\n    .dataframe thead th {\n        text-align: right;\n    }\n</style>\n<table border=\"1\" class=\"dataframe\">\n  <thead>\n    <tr style=\"text-align: right;\">\n      <th></th>\n      <th>pclass</th>\n      <th>survived</th>\n      <th>age</th>\n      <th>sibsp</th>\n      <th>parch</th>\n      <th>fare</th>\n      <th>body</th>\n    </tr>\n  </thead>\n  <tbody>\n    <tr>\n      <th>count</th>\n      <td>1309.000000</td>\n      <td>1309.000000</td>\n      <td>1046.000000</td>\n      <td>1309.000000</td>\n      <td>1309.000000</td>\n      <td>1308.000000</td>\n      <td>121.000000</td>\n    </tr>\n    <tr>\n      <th>mean</th>\n      <td>2.294882</td>\n      <td>0.381971</td>\n      <td>29.881135</td>\n      <td>0.498854</td>\n      <td>0.385027</td>\n      <td>33.295479</td>\n      <td>160.809917</td>\n    </tr>\n    <tr>\n      <th>std</th>\n      <td>0.837836</td>\n      <td>0.486055</td>\n      <td>14.413500</td>\n      <td>1.041658</td>\n      <td>0.865560</td>\n      <td>51.758668</td>\n      <td>97.696922</td>\n    </tr>\n    <tr>\n      <th>min</th>\n      <td>1.000000</td>\n      <td>0.000000</td>\n      <td>0.166700</td>\n      <td>0.000000</td>\n      <td>0.000000</td>\n      <td>0.000000</td>\n      <td>1.000000</td>\n    </tr>\n    <tr>\n      <th>25%</th>\n      <td>2.000000</td>\n      <td>0.000000</td>\n      <td>21.000000</td>\n      <td>0.000000</td>\n      <td>0.000000</td>\n      <td>7.895800</td>\n      <td>72.000000</td>\n    </tr>\n    <tr>\n      <th>50%</th>\n      <td>3.000000</td>\n      <td>0.000000</td>\n      <td>28.000000</td>\n      <td>0.000000</td>\n      <td>0.000000</td>\n      <td>14.454200</td>\n      <td>155.000000</td>\n    </tr>\n    <tr>\n      <th>75%</th>\n      <td>3.000000</td>\n      <td>1.000000</td>\n      <td>39.000000</td>\n      <td>1.000000</td>\n      <td>0.000000</td>\n      <td>31.275000</td>\n      <td>256.000000</td>\n    </tr>\n    <tr>\n      <th>max</th>\n      <td>3.000000</td>\n      <td>1.000000</td>\n      <td>80.000000</td>\n      <td>8.000000</td>\n      <td>9.000000</td>\n      <td>512.329200</td>\n      <td>328.000000</td>\n    </tr>\n  </tbody>\n</table>\n</div>",
            "text/plain": "            pclass     survived          age        sibsp        parch  \\\ncount  1309.000000  1309.000000  1046.000000  1309.000000  1309.000000   \nmean      2.294882     0.381971    29.881135     0.498854     0.385027   \nstd       0.837836     0.486055    14.413500     1.041658     0.865560   \nmin       1.000000     0.000000     0.166700     0.000000     0.000000   \n25%       2.000000     0.000000    21.000000     0.000000     0.000000   \n50%       3.000000     0.000000    28.000000     0.000000     0.000000   \n75%       3.000000     1.000000    39.000000     1.000000     0.000000   \nmax       3.000000     1.000000    80.000000     8.000000     9.000000   \n\n              fare        body  \ncount  1308.000000  121.000000  \nmean     33.295479  160.809917  \nstd      51.758668   97.696922  \nmin       0.000000    1.000000  \n25%       7.895800   72.000000  \n50%      14.454200  155.000000  \n75%      31.275000  256.000000  \nmax     512.329200  328.000000  "
          },
          "metadata": {}
        }
      ]
    },
    {
      "metadata": {
        "trusted": true
      },
      "cell_type": "code",
      "source": "# number of rows and number of columns\n\ndf.shape",
      "execution_count": 64,
      "outputs": [
        {
          "output_type": "execute_result",
          "execution_count": 64,
          "data": {
            "text/plain": "(1309, 14)"
          },
          "metadata": {}
        }
      ]
    },
    {
      "metadata": {
        "trusted": true
      },
      "cell_type": "code",
      "source": "# what are all my column names?\n\ndf.columns",
      "execution_count": 65,
      "outputs": [
        {
          "output_type": "execute_result",
          "execution_count": 65,
          "data": {
            "text/plain": "Index(['pclass', 'survived', 'name', 'sex', 'age', 'sibsp', 'parch', 'ticket',\n       'fare', 'cabin', 'embarked', 'boat', 'body', 'home.dest'],\n      dtype='object')"
          },
          "metadata": {}
        }
      ]
    },
    {
      "metadata": {},
      "cell_type": "markdown",
      "source": "<b>3: Explore through visualized data</b>\n\nAfter you examine the properties of your data, you can explore your data through visualizations. Explore your target (outcome, dependent) variable - binary logistic regression requires your target variable to be binary - having two outcome categories. It may also be useful to explore some of your variables of interest - what is the distribution of numeric variables? How are your categorical variables split between categories? \n\nExplore the relationships between your target variable and the other variables in your data. This will help you better understand which variables are likely to influence the probability of an outcome. \n\nHow does the rate of survival change based on age, gender, passenger class? If you notice interesting variations on survival rates between categories, that variable may be a good predictor of your target and should be included in your regression model. \n\nVisually examining your data is also a good way to observe any odd or out of place values. "
    },
    {
      "metadata": {
        "trusted": true
      },
      "cell_type": "code",
      "source": "#bar chart of survival status count\n\nsns.countplot(x='survived', data=df)",
      "execution_count": 66,
      "outputs": [
        {
          "output_type": "execute_result",
          "execution_count": 66,
          "data": {
            "text/plain": "<matplotlib.axes._subplots.AxesSubplot at 0x7f1b5c99ecc0>"
          },
          "metadata": {}
        },
        {
          "output_type": "display_data",
          "data": {
            "image/png": "[encoded data removed]",
            "text/plain": "<Figure size 432x288 with 1 Axes>"
          },
          "metadata": {
            "needs_background": "light"
          }
        }
      ]
    },
    {
      "metadata": {
        "trusted": true
      },
      "cell_type": "code",
      "source": "#survival status by sex\n\nsns.barplot('sex', 'survived', data=df)",
      "execution_count": 67,
      "outputs": [
        {
          "output_type": "execute_result",
          "execution_count": 67,
          "data": {
            "text/plain": "<matplotlib.axes._subplots.AxesSubplot at 0x7f1b5ccf4e10>"
          },
          "metadata": {}
        },
        {
          "output_type": "display_data",
          "data": {
            "image/png": "[encoded data removed]",
            "text/plain": "<Figure size 432x288 with 1 Axes>"
          },
          "metadata": {
            "needs_background": "light"
          }
        }
      ]
    },
    {
      "metadata": {
        "trusted": true
      },
      "cell_type": "code",
      "source": "#survival rate by passenger class\n\nsns.barplot('pclass', 'survived', data=df)",
      "execution_count": 68,
      "outputs": [
        {
          "output_type": "execute_result",
          "execution_count": 68,
          "data": {
            "text/plain": "<matplotlib.axes._subplots.AxesSubplot at 0x7f1b5cc9a048>"
          },
          "metadata": {}
        },
        {
          "output_type": "display_data",
          "data": {
            "image/png": "[encoded data removed]",
            "text/plain": "<Figure size 432x288 with 1 Axes>"
          },
          "metadata": {
            "needs_background": "light"
          }
        }
      ]
    },
    {
      "metadata": {
        "trusted": true
      },
      "cell_type": "code",
      "source": "#plot age by survival status\n\nplt.figure(figsize=(10,6))\n\nax = sns.kdeplot(df['age'][df['survived'] == 1], #passengers that survived\n                 color=\"darkturquoise\",\n                 shade=True)\n\nsns.kdeplot(df['age'][df['survived'] == 0], #passengers that did not survive\n            color=\"lightcoral\",\n            shade=True)\n\nplt.legend (['Survived', 'Died'])\nplt.title(\"Density Plot of Age for Survived vs Deceased Population\")\n\nax.set(xlabel='Age')\n#plt.show()",
      "execution_count": 69,
      "outputs": [
        {
          "output_type": "stream",
          "text": "/home/nbuser/anaconda3_501/lib/python3.6/site-packages/statsmodels/nonparametric/kde.py:448: RuntimeWarning: invalid value encountered in greater\n  X = X[np.logical_and(X > clip[0], X < clip[1])] # won't work for two columns.\n/home/nbuser/anaconda3_501/lib/python3.6/site-packages/statsmodels/nonparametric/kde.py:448: RuntimeWarning: invalid value encountered in less\n  X = X[np.logical_and(X > clip[0], X < clip[1])] # won't work for two columns.\n",
          "name": "stderr"
        },
        {
          "output_type": "execute_result",
          "execution_count": 69,
          "data": {
            "text/plain": "[Text(0.5, 0, 'Age')]"
          },
          "metadata": {}
        },
        {
          "output_type": "display_data",
          "data": {
            "image/png": "[encoded data removed]",
            "text/plain": "<Figure size 720x432 with 1 Axes>"
          },
          "metadata": {
            "needs_background": "light"
          }
        }
      ]
    },
    {
      "metadata": {},
      "cell_type": "markdown",
      "source": "<b><i>The age distribution for survivors and deceased is actually very similar. One notable difference is that, of the survivors, a larger proportion were children. The passengers evidently made an attempt to save children by giving them a place on the life rafts.</i></b>"
    },
    {
      "metadata": {
        "trusted": true
      },
      "cell_type": "code",
      "source": "sns.barplot('embarked', 'survived', data=df)",
      "execution_count": 70,
      "outputs": [
        {
          "output_type": "execute_result",
          "execution_count": 70,
          "data": {
            "text/plain": "<matplotlib.axes._subplots.AxesSubplot at 0x7f1b5ccb5438>"
          },
          "metadata": {}
        },
        {
          "output_type": "display_data",
          "data": {
            "image/png": "[encoded data removed]",
            "text/plain": "<Figure size 432x288 with 1 Axes>"
          },
          "metadata": {
            "needs_background": "light"
          }
        }
      ]
    },
    {
      "metadata": {},
      "cell_type": "markdown",
      "source": "<b>4: Handle Missing Values</b>\n\nWhen you have a good sense of your data, you should begin to think about what you need to do to prepare your data for analysis. Handling the missing values should be one of your first considerations.  \n\nHow you handle missing data is going to depend on which variables are impacted. Blindly dropping all missing values can have major consequences to the quality of your data. If you have a lot of missing data on a variable that you think is important to the analyses - figure out a way to preserve as much data as possible. This usually involes inputting specific values where the data is missing. \n\nIf you have a lot of missing data on a variable that you don't think is important for your model, consider dropping the variable completely. "
    },
    {
      "metadata": {
        "trusted": true
      },
      "cell_type": "code",
      "source": "#find columns that have missing values\n\ndf.isnull().sum()",
      "execution_count": 71,
      "outputs": [
        {
          "output_type": "execute_result",
          "execution_count": 71,
          "data": {
            "text/plain": "pclass          0\nsurvived        0\nname            0\nsex             0\nage           263\nsibsp           0\nparch           0\nticket          0\nfare            1\ncabin        1014\nembarked        2\nboat          823\nbody         1188\nhome.dest     564\ndtype: int64"
          },
          "metadata": {}
        }
      ]
    },
    {
      "metadata": {},
      "cell_type": "markdown",
      "source": "<b><i>Let's clean up AGE and EMBARKED. \n\nBOAT, BODY and HOME DESTINATION all have a lot of missing data but we probably won't be looking at those in our analyses.</i></b>"
    },
    {
      "metadata": {
        "trusted": true
      },
      "cell_type": "code",
      "source": "# lets locate the rows where AGE is missing.\n# we're creating a new dataframe that contains these rows\n\nmissing_age = df.loc[df['age'].isnull()]\nmissing_age.head(3)",
      "execution_count": 72,
      "outputs": [
        {
          "output_type": "execute_result",
          "execution_count": 72,
          "data": {
            "text/html": "<div>\n<style scoped>\n    .dataframe tbody tr th:only-of-type {\n        vertical-align: middle;\n    }\n\n    .dataframe tbody tr th {\n        vertical-align: top;\n    }\n\n    .dataframe thead th {\n        text-align: right;\n    }\n</style>\n<table border=\"1\" class=\"dataframe\">\n  <thead>\n    <tr style=\"text-align: right;\">\n      <th></th>\n      <th>pclass</th>\n      <th>survived</th>\n      <th>name</th>\n      <th>sex</th>\n      <th>age</th>\n      <th>sibsp</th>\n      <th>parch</th>\n      <th>ticket</th>\n      <th>fare</th>\n      <th>cabin</th>\n      <th>embarked</th>\n      <th>boat</th>\n      <th>body</th>\n      <th>home.dest</th>\n    </tr>\n  </thead>\n  <tbody>\n    <tr>\n      <th>15</th>\n      <td>1</td>\n      <td>0</td>\n      <td>Baumann, Mr. John D</td>\n      <td>male</td>\n      <td>NaN</td>\n      <td>0</td>\n      <td>0</td>\n      <td>PC 17318</td>\n      <td>25.925</td>\n      <td>NaN</td>\n      <td>S</td>\n      <td>NaN</td>\n      <td>NaN</td>\n      <td>New York, NY</td>\n    </tr>\n    <tr>\n      <th>37</th>\n      <td>1</td>\n      <td>1</td>\n      <td>Bradley, Mr. George (\"George Arthur Brayton\")</td>\n      <td>male</td>\n      <td>NaN</td>\n      <td>0</td>\n      <td>0</td>\n      <td>111427</td>\n      <td>26.550</td>\n      <td>NaN</td>\n      <td>S</td>\n      <td>9</td>\n      <td>NaN</td>\n      <td>Los Angeles, CA</td>\n    </tr>\n    <tr>\n      <th>40</th>\n      <td>1</td>\n      <td>0</td>\n      <td>Brewe, Dr. Arthur Jackson</td>\n      <td>male</td>\n      <td>NaN</td>\n      <td>0</td>\n      <td>0</td>\n      <td>112379</td>\n      <td>39.600</td>\n      <td>NaN</td>\n      <td>C</td>\n      <td>NaN</td>\n      <td>NaN</td>\n      <td>Philadelphia, PA</td>\n    </tr>\n  </tbody>\n</table>\n</div>",
            "text/plain": "    pclass  survived                                           name   sex  \\\n15       1         0                            Baumann, Mr. John D  male   \n37       1         1  Bradley, Mr. George (\"George Arthur Brayton\")  male   \n40       1         0                      Brewe, Dr. Arthur Jackson  male   \n\n    age  sibsp  parch    ticket    fare cabin embarked boat  body  \\\n15  NaN      0      0  PC 17318  25.925   NaN        S  NaN   NaN   \n37  NaN      0      0    111427  26.550   NaN        S    9   NaN   \n40  NaN      0      0    112379  39.600   NaN        C  NaN   NaN   \n\n           home.dest  \n15      New York, NY  \n37   Los Angeles, CA  \n40  Philadelphia, PA  "
          },
          "metadata": {}
        }
      ]
    },
    {
      "metadata": {
        "trusted": true
      },
      "cell_type": "code",
      "source": "#get index numbers of missing rows - we'll use this later\n\nmals = list(missing_age.index)\n\n# check against the index numbers above\n\nmals[0:3]",
      "execution_count": 73,
      "outputs": [
        {
          "output_type": "execute_result",
          "execution_count": 73,
          "data": {
            "text/plain": "[15, 37, 40]"
          },
          "metadata": {}
        }
      ]
    },
    {
      "metadata": {},
      "cell_type": "markdown",
      "source": "<i><b>We want to keep AGE in our dataset, and we want to preserve as much of the <b>AGE</b> data as possible. Let's work to replace the missing values in <b>AGE</b> with something meaningful. . .\n\nLet's determine the average age of passengers by SURVIVAL - SEX - PASSENGER CLASS</b></i>"
    },
    {
      "metadata": {
        "scrolled": true,
        "trusted": true
      },
      "cell_type": "code",
      "source": "#table of avg age of passenger by survival status, sex, and passenger class\n# this will allow us to take into consideration the differences in the distribution of age...\n\ndf.groupby(['survived', 'sex', 'pclass'])['age'].mean()",
      "execution_count": 74,
      "outputs": [
        {
          "output_type": "execute_result",
          "execution_count": 74,
          "data": {
            "text/plain": "survived  sex     pclass\n0         female  1         35.200000\n                  2         34.090909\n                  3         23.418750\n          male    1         43.658163\n                  2         33.092593\n                  3         26.679598\n1         female  1         37.109375\n                  2         26.711051\n                  3         20.814815\n          male    1         36.168240\n                  2         17.449274\n                  3         22.436441\nName: age, dtype: float64"
          },
          "metadata": {}
        }
      ]
    },
    {
      "metadata": {},
      "cell_type": "markdown",
      "source": "<b><i>Let's see what the average age would be for the gentleman at index #15 . . .</i></b>\n    \n    * 1st Class\n    * Did not survive\n    * Male\n\n<i><b>The avg age for a 1st class man who did not survive is: 43.66</b></i>"
    },
    {
      "metadata": {
        "trusted": true
      },
      "cell_type": "code",
      "source": "# fill the missing values for age based on survival status, sex, and passenger class\n\ndf['age'].fillna(df.groupby(['survived', 'sex', 'pclass'])['age'].transform('mean'), inplace=True)",
      "execution_count": 75,
      "outputs": []
    },
    {
      "metadata": {
        "trusted": true
      },
      "cell_type": "code",
      "source": "# let's verify that our missing age values have been filled\n\ndf.iloc[mals].head(3)",
      "execution_count": 76,
      "outputs": [
        {
          "output_type": "execute_result",
          "execution_count": 76,
          "data": {
            "text/html": "<div>\n<style scoped>\n    .dataframe tbody tr th:only-of-type {\n        vertical-align: middle;\n    }\n\n    .dataframe tbody tr th {\n        vertical-align: top;\n    }\n\n    .dataframe thead th {\n        text-align: right;\n    }\n</style>\n<table border=\"1\" class=\"dataframe\">\n  <thead>\n    <tr style=\"text-align: right;\">\n      <th></th>\n      <th>pclass</th>\n      <th>survived</th>\n      <th>name</th>\n      <th>sex</th>\n      <th>age</th>\n      <th>sibsp</th>\n      <th>parch</th>\n      <th>ticket</th>\n      <th>fare</th>\n      <th>cabin</th>\n      <th>embarked</th>\n      <th>boat</th>\n      <th>body</th>\n      <th>home.dest</th>\n    </tr>\n  </thead>\n  <tbody>\n    <tr>\n      <th>15</th>\n      <td>1</td>\n      <td>0</td>\n      <td>Baumann, Mr. John D</td>\n      <td>male</td>\n      <td>43.658163</td>\n      <td>0</td>\n      <td>0</td>\n      <td>PC 17318</td>\n      <td>25.925</td>\n      <td>NaN</td>\n      <td>S</td>\n      <td>NaN</td>\n      <td>NaN</td>\n      <td>New York, NY</td>\n    </tr>\n    <tr>\n      <th>37</th>\n      <td>1</td>\n      <td>1</td>\n      <td>Bradley, Mr. George (\"George Arthur Brayton\")</td>\n      <td>male</td>\n      <td>36.168240</td>\n      <td>0</td>\n      <td>0</td>\n      <td>111427</td>\n      <td>26.550</td>\n      <td>NaN</td>\n      <td>S</td>\n      <td>9</td>\n      <td>NaN</td>\n      <td>Los Angeles, CA</td>\n    </tr>\n    <tr>\n      <th>40</th>\n      <td>1</td>\n      <td>0</td>\n      <td>Brewe, Dr. Arthur Jackson</td>\n      <td>male</td>\n      <td>43.658163</td>\n      <td>0</td>\n      <td>0</td>\n      <td>112379</td>\n      <td>39.600</td>\n      <td>NaN</td>\n      <td>C</td>\n      <td>NaN</td>\n      <td>NaN</td>\n      <td>Philadelphia, PA</td>\n    </tr>\n  </tbody>\n</table>\n</div>",
            "text/plain": "    pclass  survived                                           name   sex  \\\n15       1         0                            Baumann, Mr. John D  male   \n37       1         1  Bradley, Mr. George (\"George Arthur Brayton\")  male   \n40       1         0                      Brewe, Dr. Arthur Jackson  male   \n\n          age  sibsp  parch    ticket    fare cabin embarked boat  body  \\\n15  43.658163      0      0  PC 17318  25.925   NaN        S  NaN   NaN   \n37  36.168240      0      0    111427  26.550   NaN        S    9   NaN   \n40  43.658163      0      0    112379  39.600   NaN        C  NaN   NaN   \n\n           home.dest  \n15      New York, NY  \n37   Los Angeles, CA  \n40  Philadelphia, PA  "
          },
          "metadata": {}
        }
      ]
    },
    {
      "metadata": {
        "trusted": true
      },
      "cell_type": "code",
      "source": "# let's check our missing values again... \n\ndf.isnull().sum()",
      "execution_count": 77,
      "outputs": [
        {
          "output_type": "execute_result",
          "execution_count": 77,
          "data": {
            "text/plain": "pclass          0\nsurvived        0\nname            0\nsex             0\nage             0\nsibsp           0\nparch           0\nticket          0\nfare            1\ncabin        1014\nembarked        2\nboat          823\nbody         1188\nhome.dest     564\ndtype: int64"
          },
          "metadata": {}
        }
      ]
    },
    {
      "metadata": {},
      "cell_type": "markdown",
      "source": "<i><b>EMBARKED has only 2 missing values - it makes the most sense to fill these missing values with the most common embarkation point. Let's follow the same steps we did when we handled the missing values for AGE</b></i>"
    },
    {
      "metadata": {
        "scrolled": true,
        "trusted": true
      },
      "cell_type": "code",
      "source": "# located and create a new dataframe with the rows where embarked is missing\n\nembark = df.loc[df['embarked'].isnull()]\nembark",
      "execution_count": 78,
      "outputs": [
        {
          "output_type": "execute_result",
          "execution_count": 78,
          "data": {
            "text/html": "<div>\n<style scoped>\n    .dataframe tbody tr th:only-of-type {\n        vertical-align: middle;\n    }\n\n    .dataframe tbody tr th {\n        vertical-align: top;\n    }\n\n    .dataframe thead th {\n        text-align: right;\n    }\n</style>\n<table border=\"1\" class=\"dataframe\">\n  <thead>\n    <tr style=\"text-align: right;\">\n      <th></th>\n      <th>pclass</th>\n      <th>survived</th>\n      <th>name</th>\n      <th>sex</th>\n      <th>age</th>\n      <th>sibsp</th>\n      <th>parch</th>\n      <th>ticket</th>\n      <th>fare</th>\n      <th>cabin</th>\n      <th>embarked</th>\n      <th>boat</th>\n      <th>body</th>\n      <th>home.dest</th>\n    </tr>\n  </thead>\n  <tbody>\n    <tr>\n      <th>168</th>\n      <td>1</td>\n      <td>1</td>\n      <td>Icard, Miss. Amelie</td>\n      <td>female</td>\n      <td>38.0</td>\n      <td>0</td>\n      <td>0</td>\n      <td>113572</td>\n      <td>80.0</td>\n      <td>B28</td>\n      <td>NaN</td>\n      <td>6</td>\n      <td>NaN</td>\n      <td>NaN</td>\n    </tr>\n    <tr>\n      <th>284</th>\n      <td>1</td>\n      <td>1</td>\n      <td>Stone, Mrs. George Nelson (Martha Evelyn)</td>\n      <td>female</td>\n      <td>62.0</td>\n      <td>0</td>\n      <td>0</td>\n      <td>113572</td>\n      <td>80.0</td>\n      <td>B28</td>\n      <td>NaN</td>\n      <td>6</td>\n      <td>NaN</td>\n      <td>Cincinatti, OH</td>\n    </tr>\n  </tbody>\n</table>\n</div>",
            "text/plain": "     pclass  survived                                       name     sex  \\\n168       1         1                        Icard, Miss. Amelie  female   \n284       1         1  Stone, Mrs. George Nelson (Martha Evelyn)  female   \n\n      age  sibsp  parch  ticket  fare cabin embarked boat  body  \\\n168  38.0      0      0  113572  80.0   B28      NaN    6   NaN   \n284  62.0      0      0  113572  80.0   B28      NaN    6   NaN   \n\n          home.dest  \n168             NaN  \n284  Cincinatti, OH  "
          },
          "metadata": {}
        }
      ]
    },
    {
      "metadata": {
        "trusted": true
      },
      "cell_type": "code",
      "source": "# Save index for missing values to verify later\n\nembarkls = list(embark.index)",
      "execution_count": 79,
      "outputs": []
    },
    {
      "metadata": {
        "trusted": true
      },
      "cell_type": "code",
      "source": "# let's find out the most common embarkation point\n\ndf['embarked'].value_counts()",
      "execution_count": 80,
      "outputs": [
        {
          "output_type": "execute_result",
          "execution_count": 80,
          "data": {
            "text/plain": "S    914\nC    270\nQ    123\nName: embarked, dtype: int64"
          },
          "metadata": {}
        }
      ]
    },
    {
      "metadata": {
        "trusted": true
      },
      "cell_type": "code",
      "source": "# Southamptom is the most common point, let's fill out values with \"S\"\ndf['embarked'].fillna('S', inplace=True)\n\n# Check that they are filled with the proper value\ndf.iloc[embarkls]",
      "execution_count": 81,
      "outputs": [
        {
          "output_type": "execute_result",
          "execution_count": 81,
          "data": {
            "text/html": "<div>\n<style scoped>\n    .dataframe tbody tr th:only-of-type {\n        vertical-align: middle;\n    }\n\n    .dataframe tbody tr th {\n        vertical-align: top;\n    }\n\n    .dataframe thead th {\n        text-align: right;\n    }\n</style>\n<table border=\"1\" class=\"dataframe\">\n  <thead>\n    <tr style=\"text-align: right;\">\n      <th></th>\n      <th>pclass</th>\n      <th>survived</th>\n      <th>name</th>\n      <th>sex</th>\n      <th>age</th>\n      <th>sibsp</th>\n      <th>parch</th>\n      <th>ticket</th>\n      <th>fare</th>\n      <th>cabin</th>\n      <th>embarked</th>\n      <th>boat</th>\n      <th>body</th>\n      <th>home.dest</th>\n    </tr>\n  </thead>\n  <tbody>\n    <tr>\n      <th>168</th>\n      <td>1</td>\n      <td>1</td>\n      <td>Icard, Miss. Amelie</td>\n      <td>female</td>\n      <td>38.0</td>\n      <td>0</td>\n      <td>0</td>\n      <td>113572</td>\n      <td>80.0</td>\n      <td>B28</td>\n      <td>S</td>\n      <td>6</td>\n      <td>NaN</td>\n      <td>NaN</td>\n    </tr>\n    <tr>\n      <th>284</th>\n      <td>1</td>\n      <td>1</td>\n      <td>Stone, Mrs. George Nelson (Martha Evelyn)</td>\n      <td>female</td>\n      <td>62.0</td>\n      <td>0</td>\n      <td>0</td>\n      <td>113572</td>\n      <td>80.0</td>\n      <td>B28</td>\n      <td>S</td>\n      <td>6</td>\n      <td>NaN</td>\n      <td>Cincinatti, OH</td>\n    </tr>\n  </tbody>\n</table>\n</div>",
            "text/plain": "     pclass  survived                                       name     sex  \\\n168       1         1                        Icard, Miss. Amelie  female   \n284       1         1  Stone, Mrs. George Nelson (Martha Evelyn)  female   \n\n      age  sibsp  parch  ticket  fare cabin embarked boat  body  \\\n168  38.0      0      0  113572  80.0   B28        S    6   NaN   \n284  62.0      0      0  113572  80.0   B28        S    6   NaN   \n\n          home.dest  \n168             NaN  \n284  Cincinatti, OH  "
          },
          "metadata": {}
        }
      ]
    },
    {
      "metadata": {
        "trusted": true
      },
      "cell_type": "code",
      "source": "df.isnull().sum() ",
      "execution_count": 82,
      "outputs": [
        {
          "output_type": "execute_result",
          "execution_count": 82,
          "data": {
            "text/plain": "pclass          0\nsurvived        0\nname            0\nsex             0\nage             0\nsibsp           0\nparch           0\nticket          0\nfare            1\ncabin        1014\nembarked        0\nboat          823\nbody         1188\nhome.dest     564\ndtype: int64"
          },
          "metadata": {}
        }
      ]
    },
    {
      "metadata": {},
      "cell_type": "markdown",
      "source": "<b>5: Reformat and create new variables</b>\n\nOnce you have a sense of the variables you want to include in your model, you should plan to reformat those variables to a format that is acceptable for your analyses.\n\nFor logistic regression, all variables included in the model need to be numeric. To convert categorical variables to numeric you will need to create dummy variables. Dummy variables create a category for each value option within a categorical variable. For example - \"sex\" has two options - MALE and FEMALE. When you create dummy variables you will create two new columns for each option for \"sex\" - Sex_Male/Sex_Female.\n\nIf an individual is Male, they will be coded as \"1\" under Sex_Male and as \"0\" under Sex_Female. "
    },
    {
      "metadata": {
        "trusted": true
      },
      "cell_type": "code",
      "source": "# let's focus only on the variables we want in our analyses\n\nmodeldf = df.drop(['name','ticket','fare', 'cabin', 'boat', 'body', 'home.dest'], axis=1)\nmodeldf.columns",
      "execution_count": 83,
      "outputs": [
        {
          "output_type": "execute_result",
          "execution_count": 83,
          "data": {
            "text/plain": "Index(['pclass', 'survived', 'sex', 'age', 'sibsp', 'parch', 'embarked'], dtype='object')"
          },
          "metadata": {}
        }
      ]
    },
    {
      "metadata": {},
      "cell_type": "markdown",
      "source": "<b><i>We need to create dummy variables for our categorical values</i></b>"
    },
    {
      "metadata": {
        "trusted": true
      },
      "cell_type": "code",
      "source": "#dummy variables for passenger class and embarkation port\n#get_dummies will auto-drop columns that dummies were created from\n\nmodeldf = pd.get_dummies(data=modeldf, columns=['pclass','embarked'])\nmodeldf.head()",
      "execution_count": 84,
      "outputs": [
        {
          "output_type": "execute_result",
          "execution_count": 84,
          "data": {
            "text/html": "<div>\n<style scoped>\n    .dataframe tbody tr th:only-of-type {\n        vertical-align: middle;\n    }\n\n    .dataframe tbody tr th {\n        vertical-align: top;\n    }\n\n    .dataframe thead th {\n        text-align: right;\n    }\n</style>\n<table border=\"1\" class=\"dataframe\">\n  <thead>\n    <tr style=\"text-align: right;\">\n      <th></th>\n      <th>survived</th>\n      <th>sex</th>\n      <th>age</th>\n      <th>sibsp</th>\n      <th>parch</th>\n      <th>pclass_1</th>\n      <th>pclass_2</th>\n      <th>pclass_3</th>\n      <th>embarked_C</th>\n      <th>embarked_Q</th>\n      <th>embarked_S</th>\n    </tr>\n  </thead>\n  <tbody>\n    <tr>\n      <th>0</th>\n      <td>1</td>\n      <td>female</td>\n      <td>29.0000</td>\n      <td>0</td>\n      <td>0</td>\n      <td>1</td>\n      <td>0</td>\n      <td>0</td>\n      <td>0</td>\n      <td>0</td>\n      <td>1</td>\n    </tr>\n    <tr>\n      <th>1</th>\n      <td>1</td>\n      <td>male</td>\n      <td>0.9167</td>\n      <td>1</td>\n      <td>2</td>\n      <td>1</td>\n      <td>0</td>\n      <td>0</td>\n      <td>0</td>\n      <td>0</td>\n      <td>1</td>\n    </tr>\n    <tr>\n      <th>2</th>\n      <td>0</td>\n      <td>female</td>\n      <td>2.0000</td>\n      <td>1</td>\n      <td>2</td>\n      <td>1</td>\n      <td>0</td>\n      <td>0</td>\n      <td>0</td>\n      <td>0</td>\n      <td>1</td>\n    </tr>\n    <tr>\n      <th>3</th>\n      <td>0</td>\n      <td>male</td>\n      <td>30.0000</td>\n      <td>1</td>\n      <td>2</td>\n      <td>1</td>\n      <td>0</td>\n      <td>0</td>\n      <td>0</td>\n      <td>0</td>\n      <td>1</td>\n    </tr>\n    <tr>\n      <th>4</th>\n      <td>0</td>\n      <td>female</td>\n      <td>25.0000</td>\n      <td>1</td>\n      <td>2</td>\n      <td>1</td>\n      <td>0</td>\n      <td>0</td>\n      <td>0</td>\n      <td>0</td>\n      <td>1</td>\n    </tr>\n  </tbody>\n</table>\n</div>",
            "text/plain": "   survived     sex      age  sibsp  parch  pclass_1  pclass_2  pclass_3  \\\n0         1  female  29.0000      0      0         1         0         0   \n1         1    male   0.9167      1      2         1         0         0   \n2         0  female   2.0000      1      2         1         0         0   \n3         0    male  30.0000      1      2         1         0         0   \n4         0  female  25.0000      1      2         1         0         0   \n\n   embarked_C  embarked_Q  embarked_S  \n0           0           0           1  \n1           0           0           1  \n2           0           0           1  \n3           0           0           1  \n4           0           0           1  "
          },
          "metadata": {}
        }
      ]
    },
    {
      "metadata": {
        "trusted": true
      },
      "cell_type": "code",
      "source": "# sex is also a categoical variable, but we can easily convert it to a binary variable\n# female = 0 // male = 1\n\nmodeldf['sex'] = modeldf['sex'].map({'female':0, 'male':1})\nmodeldf.head()",
      "execution_count": 85,
      "outputs": [
        {
          "output_type": "execute_result",
          "execution_count": 85,
          "data": {
            "text/html": "<div>\n<style scoped>\n    .dataframe tbody tr th:only-of-type {\n        vertical-align: middle;\n    }\n\n    .dataframe tbody tr th {\n        vertical-align: top;\n    }\n\n    .dataframe thead th {\n        text-align: right;\n    }\n</style>\n<table border=\"1\" class=\"dataframe\">\n  <thead>\n    <tr style=\"text-align: right;\">\n      <th></th>\n      <th>survived</th>\n      <th>sex</th>\n      <th>age</th>\n      <th>sibsp</th>\n      <th>parch</th>\n      <th>pclass_1</th>\n      <th>pclass_2</th>\n      <th>pclass_3</th>\n      <th>embarked_C</th>\n      <th>embarked_Q</th>\n      <th>embarked_S</th>\n    </tr>\n  </thead>\n  <tbody>\n    <tr>\n      <th>0</th>\n      <td>1</td>\n      <td>0</td>\n      <td>29.0000</td>\n      <td>0</td>\n      <td>0</td>\n      <td>1</td>\n      <td>0</td>\n      <td>0</td>\n      <td>0</td>\n      <td>0</td>\n      <td>1</td>\n    </tr>\n    <tr>\n      <th>1</th>\n      <td>1</td>\n      <td>1</td>\n      <td>0.9167</td>\n      <td>1</td>\n      <td>2</td>\n      <td>1</td>\n      <td>0</td>\n      <td>0</td>\n      <td>0</td>\n      <td>0</td>\n      <td>1</td>\n    </tr>\n    <tr>\n      <th>2</th>\n      <td>0</td>\n      <td>0</td>\n      <td>2.0000</td>\n      <td>1</td>\n      <td>2</td>\n      <td>1</td>\n      <td>0</td>\n      <td>0</td>\n      <td>0</td>\n      <td>0</td>\n      <td>1</td>\n    </tr>\n    <tr>\n      <th>3</th>\n      <td>0</td>\n      <td>1</td>\n      <td>30.0000</td>\n      <td>1</td>\n      <td>2</td>\n      <td>1</td>\n      <td>0</td>\n      <td>0</td>\n      <td>0</td>\n      <td>0</td>\n      <td>1</td>\n    </tr>\n    <tr>\n      <th>4</th>\n      <td>0</td>\n      <td>0</td>\n      <td>25.0000</td>\n      <td>1</td>\n      <td>2</td>\n      <td>1</td>\n      <td>0</td>\n      <td>0</td>\n      <td>0</td>\n      <td>0</td>\n      <td>1</td>\n    </tr>\n  </tbody>\n</table>\n</div>",
            "text/plain": "   survived  sex      age  sibsp  parch  pclass_1  pclass_2  pclass_3  \\\n0         1    0  29.0000      0      0         1         0         0   \n1         1    1   0.9167      1      2         1         0         0   \n2         0    0   2.0000      1      2         1         0         0   \n3         0    1  30.0000      1      2         1         0         0   \n4         0    0  25.0000      1      2         1         0         0   \n\n   embarked_C  embarked_Q  embarked_S  \n0           0           0           1  \n1           0           0           1  \n2           0           0           1  \n3           0           0           1  \n4           0           0           1  "
          },
          "metadata": {}
        }
      ]
    },
    {
      "metadata": {},
      "cell_type": "markdown",
      "source": "<b><i>Now that we have our variables in the format we want, lets consider creating a few new variables to capture family size</i></b>"
    },
    {
      "metadata": {
        "trusted": true
      },
      "cell_type": "code",
      "source": "#create new column based on number of family members\n\nmodeldf['family_num'] = modeldf['sibsp'] + modeldf['parch']\n\n#drop sibsp and parch columns\n\nmodeldf.drop(['sibsp', 'parch'], axis=1, inplace=True)\nmodeldf.head()",
      "execution_count": 86,
      "outputs": [
        {
          "output_type": "execute_result",
          "execution_count": 86,
          "data": {
            "text/html": "<div>\n<style scoped>\n    .dataframe tbody tr th:only-of-type {\n        vertical-align: middle;\n    }\n\n    .dataframe tbody tr th {\n        vertical-align: top;\n    }\n\n    .dataframe thead th {\n        text-align: right;\n    }\n</style>\n<table border=\"1\" class=\"dataframe\">\n  <thead>\n    <tr style=\"text-align: right;\">\n      <th></th>\n      <th>survived</th>\n      <th>sex</th>\n      <th>age</th>\n      <th>pclass_1</th>\n      <th>pclass_2</th>\n      <th>pclass_3</th>\n      <th>embarked_C</th>\n      <th>embarked_Q</th>\n      <th>embarked_S</th>\n      <th>family_num</th>\n    </tr>\n  </thead>\n  <tbody>\n    <tr>\n      <th>0</th>\n      <td>1</td>\n      <td>0</td>\n      <td>29.0000</td>\n      <td>1</td>\n      <td>0</td>\n      <td>0</td>\n      <td>0</td>\n      <td>0</td>\n      <td>1</td>\n      <td>0</td>\n    </tr>\n    <tr>\n      <th>1</th>\n      <td>1</td>\n      <td>1</td>\n      <td>0.9167</td>\n      <td>1</td>\n      <td>0</td>\n      <td>0</td>\n      <td>0</td>\n      <td>0</td>\n      <td>1</td>\n      <td>3</td>\n    </tr>\n    <tr>\n      <th>2</th>\n      <td>0</td>\n      <td>0</td>\n      <td>2.0000</td>\n      <td>1</td>\n      <td>0</td>\n      <td>0</td>\n      <td>0</td>\n      <td>0</td>\n      <td>1</td>\n      <td>3</td>\n    </tr>\n    <tr>\n      <th>3</th>\n      <td>0</td>\n      <td>1</td>\n      <td>30.0000</td>\n      <td>1</td>\n      <td>0</td>\n      <td>0</td>\n      <td>0</td>\n      <td>0</td>\n      <td>1</td>\n      <td>3</td>\n    </tr>\n    <tr>\n      <th>4</th>\n      <td>0</td>\n      <td>0</td>\n      <td>25.0000</td>\n      <td>1</td>\n      <td>0</td>\n      <td>0</td>\n      <td>0</td>\n      <td>0</td>\n      <td>1</td>\n      <td>3</td>\n    </tr>\n  </tbody>\n</table>\n</div>",
            "text/plain": "   survived  sex      age  pclass_1  pclass_2  pclass_3  embarked_C  \\\n0         1    0  29.0000         1         0         0           0   \n1         1    1   0.9167         1         0         0           0   \n2         0    0   2.0000         1         0         0           0   \n3         0    1  30.0000         1         0         0           0   \n4         0    0  25.0000         1         0         0           0   \n\n   embarked_Q  embarked_S  family_num  \n0           0           1           0  \n1           0           1           3  \n2           0           1           3  \n3           0           1           3  \n4           0           1           3  "
          },
          "metadata": {}
        }
      ]
    },
    {
      "metadata": {},
      "cell_type": "markdown",
      "source": "<b><i>What about those who weren't traveling with any family? Let's parse those individuals out of our dataset</b></i>"
    },
    {
      "metadata": {
        "trusted": true
      },
      "cell_type": "code",
      "source": "modeldf['TravelAlone']=np.where((modeldf['family_num'] > 0), 0, 1)\nmodeldf.head()",
      "execution_count": 87,
      "outputs": [
        {
          "output_type": "execute_result",
          "execution_count": 87,
          "data": {
            "text/html": "<div>\n<style scoped>\n    .dataframe tbody tr th:only-of-type {\n        vertical-align: middle;\n    }\n\n    .dataframe tbody tr th {\n        vertical-align: top;\n    }\n\n    .dataframe thead th {\n        text-align: right;\n    }\n</style>\n<table border=\"1\" class=\"dataframe\">\n  <thead>\n    <tr style=\"text-align: right;\">\n      <th></th>\n      <th>survived</th>\n      <th>sex</th>\n      <th>age</th>\n      <th>pclass_1</th>\n      <th>pclass_2</th>\n      <th>pclass_3</th>\n      <th>embarked_C</th>\n      <th>embarked_Q</th>\n      <th>embarked_S</th>\n      <th>family_num</th>\n      <th>TravelAlone</th>\n    </tr>\n  </thead>\n  <tbody>\n    <tr>\n      <th>0</th>\n      <td>1</td>\n      <td>0</td>\n      <td>29.0000</td>\n      <td>1</td>\n      <td>0</td>\n      <td>0</td>\n      <td>0</td>\n      <td>0</td>\n      <td>1</td>\n      <td>0</td>\n      <td>1</td>\n    </tr>\n    <tr>\n      <th>1</th>\n      <td>1</td>\n      <td>1</td>\n      <td>0.9167</td>\n      <td>1</td>\n      <td>0</td>\n      <td>0</td>\n      <td>0</td>\n      <td>0</td>\n      <td>1</td>\n      <td>3</td>\n      <td>0</td>\n    </tr>\n    <tr>\n      <th>2</th>\n      <td>0</td>\n      <td>0</td>\n      <td>2.0000</td>\n      <td>1</td>\n      <td>0</td>\n      <td>0</td>\n      <td>0</td>\n      <td>0</td>\n      <td>1</td>\n      <td>3</td>\n      <td>0</td>\n    </tr>\n    <tr>\n      <th>3</th>\n      <td>0</td>\n      <td>1</td>\n      <td>30.0000</td>\n      <td>1</td>\n      <td>0</td>\n      <td>0</td>\n      <td>0</td>\n      <td>0</td>\n      <td>1</td>\n      <td>3</td>\n      <td>0</td>\n    </tr>\n    <tr>\n      <th>4</th>\n      <td>0</td>\n      <td>0</td>\n      <td>25.0000</td>\n      <td>1</td>\n      <td>0</td>\n      <td>0</td>\n      <td>0</td>\n      <td>0</td>\n      <td>1</td>\n      <td>3</td>\n      <td>0</td>\n    </tr>\n  </tbody>\n</table>\n</div>",
            "text/plain": "   survived  sex      age  pclass_1  pclass_2  pclass_3  embarked_C  \\\n0         1    0  29.0000         1         0         0           0   \n1         1    1   0.9167         1         0         0           0   \n2         0    0   2.0000         1         0         0           0   \n3         0    1  30.0000         1         0         0           0   \n4         0    0  25.0000         1         0         0           0   \n\n   embarked_Q  embarked_S  family_num  TravelAlone  \n0           0           1           0            1  \n1           0           1           3            0  \n2           0           1           3            0  \n3           0           1           3            0  \n4           0           1           3            0  "
          },
          "metadata": {}
        }
      ]
    },
    {
      "metadata": {},
      "cell_type": "markdown",
      "source": "<b><i>Our dataset is ready for our analyses!</b></i>"
    },
    {
      "metadata": {},
      "cell_type": "markdown",
      "source": "<b>6: Logistic Regression</b>\n\nLogistic regression is a type of classification. It is used when you want to make categorical predictions.\n\nThe goal of our analyses is to create a model that accurately predicts our target. To get to this point, we are first going to train our model on what we know, then we are going to test our model to see how well it can predict what we may not know. After we train and test our model, we need to assess the performance of the model.  "
    },
    {
      "metadata": {},
      "cell_type": "markdown",
      "source": "<b><i>Split Data into Train and Test sets</b></i>\n\n<i>Why split our data?</i>\n\nWouldn't it be nice if our model could be used to make predictions on the dataset we already have AND make predictions on data it's never seen? \n\nIn order to do this, we need to teach (TRAIN) our model to read the patterns in our data. After understanding the data, the model then should be able to predict outcomes on new data based on the patterns it observed in our training data. To determine the performance of our model, we need to TEST our model on a new dataset and observe the predictions the model made after being trained. \n\nThere are several metrics we can use to test our model performance. "
    },
    {
      "metadata": {
        "trusted": true
      },
      "cell_type": "code",
      "source": "# step 1: create two seperate datasets - X[all variables EXCEPT target] and y[ONLY target]\n\ny = modeldf['survived']\n\nX = modeldf.drop(['survived'], axis=1)",
      "execution_count": 88,
      "outputs": []
    },
    {
      "metadata": {
        "trusted": true
      },
      "cell_type": "code",
      "source": "# step 2: split your data into the training data (80%) and the test data (20%)\n\nX_train, X_test, y_train, y_test = train_test_split(X, y, test_size=0.2, random_state=15)",
      "execution_count": 89,
      "outputs": []
    },
    {
      "metadata": {
        "trusted": true
      },
      "cell_type": "code",
      "source": "# step 3: create logistic regression model \n\n##assign logistic regression function to a variable\nLogReg = LogisticRegression()\n\n#fit our model to the TRAINING data\n# this is where our model is going to learn our data\n\nLogReg.fit(X_train, y_train)",
      "execution_count": 90,
      "outputs": [
        {
          "output_type": "execute_result",
          "execution_count": 90,
          "data": {
            "text/plain": "LogisticRegression(C=1.0, class_weight=None, dual=False, fit_intercept=True,\n          intercept_scaling=1, max_iter=100, multi_class='ovr', n_jobs=1,\n          penalty='l2', random_state=None, solver='liblinear', tol=0.0001,\n          verbose=0, warm_start=False)"
          },
          "metadata": {}
        }
      ]
    },
    {
      "metadata": {
        "trusted": true
      },
      "cell_type": "code",
      "source": "#step 4: determine the accuracy score of our model using the training data\n\nLogReg.score(X_train, y_train)",
      "execution_count": 91,
      "outputs": [
        {
          "output_type": "execute_result",
          "execution_count": 91,
          "data": {
            "text/plain": "0.7994269340974212"
          },
          "metadata": {}
        }
      ]
    },
    {
      "metadata": {},
      "cell_type": "markdown",
      "source": "<b><i> How do we measure the performance of our model?</b></i>\n\n\n<b><i>Confusion Matrix</i></b>\n\nThe confusion matrix shows the number of correct classifications along with misclassifications when a model makes predictions for each class. The diagnoal elements are correct classification while the off diagonal elements are misclassifications. There are four possible outcome classes:\n\n1. True positive(TP)— actual = 1, predicted = 1\n2. False positive(FP)— actual = 0, predicted = 1\n3. False negative(FN)— actual = 1, predicted = 0\n4. True negative(TN)— actual = 0, predicted = 0\n\n<b>good breakdown of confusion matrix</b>: https://scaryscientist.blogspot.com/2016/03/confusion-matrix.html?view=classic\n\n\n<b><i>Accuracy</i></b>\n\nThe fraction of predictions that our model got right (i.e. Accuracy: 79.9-Our model correctly predicts outcome nearly 80% of the time).\n\n\n<b><i>Precision</i></b>\n\nThe ratio of true positives (TP) to total predicted positives (TP + FP). Precision score tells how many TP's our model predicted out of total predicted positives (i.e. Precision: 82.1-When our model predicts a passenger as a survivor, it is correct 82% of the time). \n\n\n<b><i>Recall/Sensitivity</i></b>\n\nThe ratio of true positives (TP) to total actual positives (TP + FN). Recall score basically calculates TP's from total actual positives (i.e. Recall: 71.6 -Our model correctly identifies nearly 72% of all survivors. Another way to say this - it predicts nearly 72% of survivors as survivors).\n\n\n<b><i>F1 Score</i></b>\n\nWhen determining how your model performs, you want to consider both the precision and recall. The F1 score is the balanced harmonic mean of recall and precision, giving both metrics equal weight. The higher the F1 score is, the better. \n\n\n\n<b><i>Classification Report</i></b>\n\nThe classification report shows us the precision, recall, and F1 score for both outcome classes (i.e. survived/did not survive). \n"
    },
    {
      "metadata": {
        "trusted": true
      },
      "cell_type": "code",
      "source": "#step 5: test our model on the TEST data\n#we want our model to predict outcomes for the observations in our test data\n\ny_pred = LogReg.predict(X_test)",
      "execution_count": 92,
      "outputs": []
    },
    {
      "metadata": {
        "trusted": true
      },
      "cell_type": "code",
      "source": "print(y_pred)",
      "execution_count": 93,
      "outputs": [
        {
          "output_type": "stream",
          "text": "[1 0 0 0 0 0 0 0 0 1 0 0 1 0 0 0 0 0 1 0 1 1 1 0 1 0 0 1 0 0 1 1 1 1 1 1 0\n 0 0 0 1 1 1 0 0 0 0 0 0 0 1 0 0 1 0 0 0 1 0 1 1 0 0 0 0 0 0 0 0 0 0 0 1 0\n 1 0 0 0 1 0 0 0 0 0 0 1 1 1 0 0 0 1 0 0 0 0 1 0 0 1 0 1 1 0 0 0 1 1 0 0 1\n 1 0 1 0 1 0 0 0 0 1 0 1 1 0 1 0 0 0 1 1 0 1 0 0 1 1 0 0 0 1 0 0 0 1 0 0 1\n 0 1 1 1 0 0 1 0 1 0 0 0 1 0 1 1 1 1 0 1 1 0 1 0 0 0 0 0 0 1 1 0 0 0 1 1 0\n 1 1 0 0 1 0 0 1 1 0 0 0 0 0 1 0 0 1 1 0 0 1 0 0 0 0 1 0 0 1 0 1 0 1 0 0 0\n 0 1 1 1 0 0 1 0 1 0 1 0 0 0 0 0 0 0 0 0 0 1 0 0 0 1 1 1 0 0 0 0 0 1 1 0 1\n 0 0 0]\n",
          "name": "stdout"
        }
      ]
    },
    {
      "metadata": {
        "trusted": true
      },
      "cell_type": "code",
      "source": "#step 6: determine how well our model predicted values\n#Confusion matrix shows which values model predicted correctly vs incorrectly\n\ncm = pd.DataFrame(\n    confusion_matrix(y_test, y_pred),\n    columns=['Predicted Not Survival', 'Predicted Survival'],\n    index=['True Not Survival', 'True Survival'])\n\ncm",
      "execution_count": 94,
      "outputs": [
        {
          "output_type": "execute_result",
          "execution_count": 94,
          "data": {
            "text/html": "<div>\n<style scoped>\n    .dataframe tbody tr th:only-of-type {\n        vertical-align: middle;\n    }\n\n    .dataframe tbody tr th {\n        vertical-align: top;\n    }\n\n    .dataframe thead th {\n        text-align: right;\n    }\n</style>\n<table border=\"1\" class=\"dataframe\">\n  <thead>\n    <tr style=\"text-align: right;\">\n      <th></th>\n      <th>Predicted Not Survival</th>\n      <th>Predicted Survival</th>\n    </tr>\n  </thead>\n  <tbody>\n    <tr>\n      <th>True Not Survival</th>\n      <td>139</td>\n      <td>28</td>\n    </tr>\n    <tr>\n      <th>True Survival</th>\n      <td>28</td>\n      <td>67</td>\n    </tr>\n  </tbody>\n</table>\n</div>",
            "text/plain": "                   Predicted Not Survival  Predicted Survival\nTrue Not Survival                     139                  28\nTrue Survival                          28                  67"
          },
          "metadata": {}
        }
      ]
    },
    {
      "metadata": {},
      "cell_type": "markdown",
      "source": "TP - 67\n\nTN - 139\n\nFP - 28\n\nFN - 28"
    },
    {
      "metadata": {
        "trusted": true
      },
      "cell_type": "code",
      "source": "#step 7: determine the accuracy score of our model using the test data\n\nLogReg.score(X_test, y_test)",
      "execution_count": 95,
      "outputs": [
        {
          "output_type": "execute_result",
          "execution_count": 95,
          "data": {
            "text/plain": "0.7862595419847328"
          },
          "metadata": {}
        }
      ]
    },
    {
      "metadata": {
        "scrolled": true,
        "trusted": true
      },
      "cell_type": "code",
      "source": "#step 8: print the classification report to see how our model did across both outcome classes\n## compare the actual values with the predicted values\n\nprint(classification_report(y_test, y_pred))",
      "execution_count": 96,
      "outputs": [
        {
          "output_type": "stream",
          "text": "             precision    recall  f1-score   support\n\n          0       0.83      0.83      0.83       167\n          1       0.71      0.71      0.71        95\n\navg / total       0.79      0.79      0.79       262\n\n",
          "name": "stdout"
        }
      ]
    },
    {
      "metadata": {},
      "cell_type": "markdown",
      "source": "<b>What can we learn from this report?</b>"
    },
    {
      "metadata": {},
      "cell_type": "markdown",
      "source": "# Logistic Regression with Statsmodels"
    },
    {
      "metadata": {},
      "cell_type": "markdown",
      "source": "What if we want to predict an outcome and see how each of our variables influence the likelihood of that outcome?\n\nStatsmodels can give us a summary of the variables in our model, and we attempt to identify the various factors that may influence outcome. \n\nWe've already prepared our data, but we need to conduct a few extra steps for statsmodels... "
    },
    {
      "metadata": {
        "trusted": true
      },
      "cell_type": "code",
      "source": "import statsmodels.formula.api as sm",
      "execution_count": 97,
      "outputs": []
    },
    {
      "metadata": {
        "trusted": true
      },
      "cell_type": "code",
      "source": "# we can use our X and y datasets from before, but we need to add an intercept variable to our X \n# logistic regression using statsmodels will not automatically include the intercept\n\nX['intercept'] = 1\n\nX.head(2)",
      "execution_count": 98,
      "outputs": [
        {
          "output_type": "execute_result",
          "execution_count": 98,
          "data": {
            "text/html": "<div>\n<style scoped>\n    .dataframe tbody tr th:only-of-type {\n        vertical-align: middle;\n    }\n\n    .dataframe tbody tr th {\n        vertical-align: top;\n    }\n\n    .dataframe thead th {\n        text-align: right;\n    }\n</style>\n<table border=\"1\" class=\"dataframe\">\n  <thead>\n    <tr style=\"text-align: right;\">\n      <th></th>\n      <th>sex</th>\n      <th>age</th>\n      <th>pclass_1</th>\n      <th>pclass_2</th>\n      <th>pclass_3</th>\n      <th>embarked_C</th>\n      <th>embarked_Q</th>\n      <th>embarked_S</th>\n      <th>family_num</th>\n      <th>TravelAlone</th>\n      <th>intercept</th>\n    </tr>\n  </thead>\n  <tbody>\n    <tr>\n      <th>0</th>\n      <td>0</td>\n      <td>29.0000</td>\n      <td>1</td>\n      <td>0</td>\n      <td>0</td>\n      <td>0</td>\n      <td>0</td>\n      <td>1</td>\n      <td>0</td>\n      <td>1</td>\n      <td>1</td>\n    </tr>\n    <tr>\n      <th>1</th>\n      <td>1</td>\n      <td>0.9167</td>\n      <td>1</td>\n      <td>0</td>\n      <td>0</td>\n      <td>0</td>\n      <td>0</td>\n      <td>1</td>\n      <td>3</td>\n      <td>0</td>\n      <td>1</td>\n    </tr>\n  </tbody>\n</table>\n</div>",
            "text/plain": "   sex      age  pclass_1  pclass_2  pclass_3  embarked_C  embarked_Q  \\\n0    0  29.0000         1         0         0           0           0   \n1    1   0.9167         1         0         0           0           0   \n\n   embarked_S  family_num  TravelAlone  intercept  \n0           1           0            1          1  \n1           1           3            0          1  "
          },
          "metadata": {}
        }
      ]
    },
    {
      "metadata": {
        "trusted": true
      },
      "cell_type": "code",
      "source": "# we also want to drop one of our columns for our dummy variables\n# the dropped column will be used as a reference column when we're interpreting our variables \n\nX2 = X.drop(['pclass_1', 'embarked_C'], axis=1)\n\n# I'm choosing the columns that have the highest survival rates",
      "execution_count": 99,
      "outputs": []
    },
    {
      "metadata": {
        "trusted": true
      },
      "cell_type": "code",
      "source": "sns.barplot('pclass', 'survived', data=df)",
      "execution_count": null,
      "outputs": []
    },
    {
      "metadata": {
        "trusted": true
      },
      "cell_type": "code",
      "source": "sns.barplot('embarked', 'survived', data=df)",
      "execution_count": null,
      "outputs": []
    },
    {
      "metadata": {
        "trusted": true
      },
      "cell_type": "code",
      "source": "X2.head(2)",
      "execution_count": 100,
      "outputs": [
        {
          "output_type": "execute_result",
          "execution_count": 100,
          "data": {
            "text/html": "<div>\n<style scoped>\n    .dataframe tbody tr th:only-of-type {\n        vertical-align: middle;\n    }\n\n    .dataframe tbody tr th {\n        vertical-align: top;\n    }\n\n    .dataframe thead th {\n        text-align: right;\n    }\n</style>\n<table border=\"1\" class=\"dataframe\">\n  <thead>\n    <tr style=\"text-align: right;\">\n      <th></th>\n      <th>sex</th>\n      <th>age</th>\n      <th>pclass_2</th>\n      <th>pclass_3</th>\n      <th>embarked_Q</th>\n      <th>embarked_S</th>\n      <th>family_num</th>\n      <th>TravelAlone</th>\n      <th>intercept</th>\n    </tr>\n  </thead>\n  <tbody>\n    <tr>\n      <th>0</th>\n      <td>0</td>\n      <td>29.0000</td>\n      <td>0</td>\n      <td>0</td>\n      <td>0</td>\n      <td>1</td>\n      <td>0</td>\n      <td>1</td>\n      <td>1</td>\n    </tr>\n    <tr>\n      <th>1</th>\n      <td>1</td>\n      <td>0.9167</td>\n      <td>0</td>\n      <td>0</td>\n      <td>0</td>\n      <td>1</td>\n      <td>3</td>\n      <td>0</td>\n      <td>1</td>\n    </tr>\n  </tbody>\n</table>\n</div>",
            "text/plain": "   sex      age  pclass_2  pclass_3  embarked_Q  embarked_S  family_num  \\\n0    0  29.0000         0         0           0           1           0   \n1    1   0.9167         0         0           0           1           3   \n\n   TravelAlone  intercept  \n0            1          1  \n1            0          1  "
          },
          "metadata": {}
        }
      ]
    },
    {
      "metadata": {
        "trusted": true
      },
      "cell_type": "code",
      "source": "# let's fit our logistic regression model to our X2 and y data\n\nmodel = sm.Logit(y,X2)\nresult = model.fit()",
      "execution_count": 101,
      "outputs": [
        {
          "output_type": "stream",
          "text": "Optimization terminated successfully.\n         Current function value: 0.450203\n         Iterations 6\n",
          "name": "stdout"
        }
      ]
    },
    {
      "metadata": {
        "trusted": true
      },
      "cell_type": "code",
      "source": "# let's take a look at the summary of our model\n\nresult.summary()",
      "execution_count": 102,
      "outputs": [
        {
          "output_type": "execute_result",
          "execution_count": 102,
          "data": {
            "text/html": "<table class=\"simpletable\">\n<caption>Logit Regression Results</caption>\n<tr>\n  <th>Dep. Variable:</th>     <td>survived</td>     <th>  No. Observations:  </th>   <td>  1309</td>  \n</tr>\n<tr>\n  <th>Model:</th>               <td>Logit</td>      <th>  Df Residuals:      </th>   <td>  1300</td>  \n</tr>\n<tr>\n  <th>Method:</th>               <td>MLE</td>       <th>  Df Model:          </th>   <td>     8</td>  \n</tr>\n<tr>\n  <th>Date:</th>          <td>Sat, 30 Mar 2019</td> <th>  Pseudo R-squ.:     </th>   <td>0.3230</td>  \n</tr>\n<tr>\n  <th>Time:</th>              <td>14:31:20</td>     <th>  Log-Likelihood:    </th>  <td> -589.32</td> \n</tr>\n<tr>\n  <th>converged:</th>           <td>True</td>       <th>  LL-Null:           </th>  <td> -870.51</td> \n</tr>\n<tr>\n  <th> </th>                      <td> </td>        <th>  LLR p-value:       </th> <td>2.829e-116</td>\n</tr>\n</table>\n<table class=\"simpletable\">\n<tr>\n       <td></td>          <th>coef</th>     <th>std err</th>      <th>z</th>      <th>P>|z|</th>  <th>[0.025</th>    <th>0.975]</th>  \n</tr>\n<tr>\n  <th>sex</th>         <td>   -2.5448</td> <td>    0.161</td> <td>  -15.766</td> <td> 0.000</td> <td>   -2.861</td> <td>   -2.228</td>\n</tr>\n<tr>\n  <th>age</th>         <td>   -0.0444</td> <td>    0.007</td> <td>   -6.581</td> <td> 0.000</td> <td>   -0.058</td> <td>   -0.031</td>\n</tr>\n<tr>\n  <th>pclass_2</th>    <td>   -1.1933</td> <td>    0.229</td> <td>   -5.217</td> <td> 0.000</td> <td>   -1.642</td> <td>   -0.745</td>\n</tr>\n<tr>\n  <th>pclass_3</th>    <td>   -2.1780</td> <td>    0.222</td> <td>   -9.796</td> <td> 0.000</td> <td>   -2.614</td> <td>   -1.742</td>\n</tr>\n<tr>\n  <th>embarked_Q</th>  <td>   -0.5160</td> <td>    0.305</td> <td>   -1.693</td> <td> 0.090</td> <td>   -1.113</td> <td>    0.081</td>\n</tr>\n<tr>\n  <th>embarked_S</th>  <td>   -0.5140</td> <td>    0.189</td> <td>   -2.713</td> <td> 0.007</td> <td>   -0.885</td> <td>   -0.143</td>\n</tr>\n<tr>\n  <th>family_num</th>  <td>   -0.3486</td> <td>    0.082</td> <td>   -4.273</td> <td> 0.000</td> <td>   -0.509</td> <td>   -0.189</td>\n</tr>\n<tr>\n  <th>TravelAlone</th> <td>   -0.6926</td> <td>    0.223</td> <td>   -3.100</td> <td> 0.002</td> <td>   -1.130</td> <td>   -0.255</td>\n</tr>\n<tr>\n  <th>intercept</th>   <td>    4.8501</td> <td>    0.396</td> <td>   12.256</td> <td> 0.000</td> <td>    4.074</td> <td>    5.626</td>\n</tr>\n</table>",
            "text/plain": "<class 'statsmodels.iolib.summary.Summary'>\n\"\"\"\n                           Logit Regression Results                           \n==============================================================================\nDep. Variable:               survived   No. Observations:                 1309\nModel:                          Logit   Df Residuals:                     1300\nMethod:                           MLE   Df Model:                            8\nDate:                Sat, 30 Mar 2019   Pseudo R-squ.:                  0.3230\nTime:                        14:31:20   Log-Likelihood:                -589.32\nconverged:                       True   LL-Null:                       -870.51\n                                        LLR p-value:                2.829e-116\n===============================================================================\n                  coef    std err          z      P>|z|      [0.025      0.975]\n-------------------------------------------------------------------------------\nsex            -2.5448      0.161    -15.766      0.000      -2.861      -2.228\nage            -0.0444      0.007     -6.581      0.000      -0.058      -0.031\npclass_2       -1.1933      0.229     -5.217      0.000      -1.642      -0.745\npclass_3       -2.1780      0.222     -9.796      0.000      -2.614      -1.742\nembarked_Q     -0.5160      0.305     -1.693      0.090      -1.113       0.081\nembarked_S     -0.5140      0.189     -2.713      0.007      -0.885      -0.143\nfamily_num     -0.3486      0.082     -4.273      0.000      -0.509      -0.189\nTravelAlone    -0.6926      0.223     -3.100      0.002      -1.130      -0.255\nintercept       4.8501      0.396     12.256      0.000       4.074       5.626\n===============================================================================\n\"\"\""
          },
          "metadata": {}
        }
      ]
    },
    {
      "metadata": {
        "trusted": true
      },
      "cell_type": "code",
      "source": "#Log Odds\n\nresult.params",
      "execution_count": 103,
      "outputs": [
        {
          "output_type": "execute_result",
          "execution_count": 103,
          "data": {
            "text/plain": "sex           -2.544756\nage           -0.044362\npclass_2      -1.193261\npclass_3      -2.177965\nembarked_Q    -0.515950\nembarked_S    -0.513954\nfamily_num    -0.348626\nTravelAlone   -0.692588\nintercept      4.850110\ndtype: float64"
          },
          "metadata": {}
        }
      ]
    },
    {
      "metadata": {
        "trusted": true
      },
      "cell_type": "code",
      "source": "# Odds Ratios\n\nodds_ratios = np.exp(result.params)",
      "execution_count": 104,
      "outputs": []
    },
    {
      "metadata": {
        "trusted": true,
        "scrolled": true
      },
      "cell_type": "code",
      "source": "odds_ratios",
      "execution_count": 105,
      "outputs": [
        {
          "output_type": "execute_result",
          "execution_count": 105,
          "data": {
            "text/plain": "sex              0.078492\nage              0.956608\npclass_2         0.303231\npclass_3         0.113272\nembarked_Q       0.596933\nembarked_S       0.598126\nfamily_num       0.705657\nTravelAlone      0.500279\nintercept      127.754451\ndtype: float64"
          },
          "metadata": {}
        }
      ]
    },
    {
      "metadata": {},
      "cell_type": "markdown",
      "source": "Odds ratios < 1 mean a decrease of odds"
    },
    {
      "metadata": {
        "trusted": true
      },
      "cell_type": "code",
      "source": "(odds_ratios - 1)*100",
      "execution_count": 106,
      "outputs": [
        {
          "output_type": "execute_result",
          "execution_count": 106,
          "data": {
            "text/plain": "sex              -92.150776\nage               -4.339201\npclass_2         -69.676909\npclass_3         -88.672821\nembarked_Q       -40.306689\nembarked_S       -40.187433\nfamily_num       -29.434284\nTravelAlone      -49.972050\nintercept      12675.445146\ndtype: float64"
          },
          "metadata": {}
        }
      ]
    },
    {
      "metadata": {},
      "cell_type": "markdown",
      "source": "i.e.\n\nfor every one year increase in passenger age, the odds of survival decrease by 4%."
    },
    {
      "metadata": {
        "trusted": true
      },
      "cell_type": "code",
      "source": "",
      "execution_count": null,
      "outputs": []
    }
  ],
  "metadata": {
    "kernelspec": {
      "name": "python36",
      "display_name": "Python 3.6",
      "language": "python"
    },
    "language_info": {
      "mimetype": "text/x-python",
      "nbconvert_exporter": "python",
      "name": "python",
      "pygments_lexer": "ipython3",
      "version": "3.6.6",
      "file_extension": ".py",
      "codemirror_mode": {
        "version": 3,
        "name": "ipython"
      }
    }
  },
  "nbformat": 4,
  "nbformat_minor": 2
}